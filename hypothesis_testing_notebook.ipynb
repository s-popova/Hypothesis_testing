{
 "cells": [
  {
   "cell_type": "markdown",
   "id": "d1e024b0",
   "metadata": {},
   "source": [
    "## Попова Софья. Проверка гипотез\n"
   ]
  },
  {
   "cell_type": "markdown",
   "id": "91a8494d",
   "metadata": {},
   "source": [
    "Руководство компании обратило внимание на то, что сотрудники старше 35 лет болеют чаще, чем более молодые сотрудники. Кроме этого, среди мужчин количество пропусков рабочих дней в связи с больничным выше, чем среди женщин. В связи с этой ситуацией, руководство организации планирует ввести дополнительные медицинские осмотры среди групп риска. \n",
    "Вам необходимо проверить следующие гипотезы:\n",
    "- 1)\tМужчины пропускают в течение года более 2 рабочих дней (work_days) по болезни значимо чаще женщин.\n",
    "- 2)\tРаботники старше 35 лет (age) пропускают в течение года более 2 рабочих дней (work_days) по болезни значимо чаще своих более молодых коллег.\n"
   ]
  },
  {
   "cell_type": "code",
   "execution_count": null,
   "id": "fc1aa2da",
   "metadata": {},
   "outputs": [],
   "source": [
    "import pandas as pd\n",
    "import matplotlib.pyplot as plt\n",
    "from scipy.stats import ttest_ind\n",
    "import seaborn as sns"
   ]
  },
  {
   "cell_type": "markdown",
   "id": "293e57dd",
   "metadata": {},
   "source": [
    "Загрузка файла"
   ]
  },
  {
   "cell_type": "code",
   "execution_count": 18,
   "id": "fc7b4c50",
   "metadata": {},
   "outputs": [],
   "source": [
    "data = pd.read_csv(\"Статистика.csv\")"
   ]
  },
  {
   "cell_type": "markdown",
   "id": "2005e794",
   "metadata": {},
   "source": [
    "Вывод данных"
   ]
  },
  {
   "cell_type": "code",
   "execution_count": 19,
   "id": "d9430683",
   "metadata": {},
   "outputs": [
    {
     "data": {
      "text/html": [
       "<div>\n",
       "<style scoped>\n",
       "    .dataframe tbody tr th:only-of-type {\n",
       "        vertical-align: middle;\n",
       "    }\n",
       "\n",
       "    .dataframe tbody tr th {\n",
       "        vertical-align: top;\n",
       "    }\n",
       "\n",
       "    .dataframe thead th {\n",
       "        text-align: right;\n",
       "    }\n",
       "</style>\n",
       "<table border=\"1\" class=\"dataframe\">\n",
       "  <thead>\n",
       "    <tr style=\"text-align: right;\">\n",
       "      <th></th>\n",
       "      <th>Количество больничных дней</th>\n",
       "      <th>Возраст</th>\n",
       "      <th>Пол</th>\n",
       "    </tr>\n",
       "  </thead>\n",
       "  <tbody>\n",
       "    <tr>\n",
       "      <th>0</th>\n",
       "      <td>5</td>\n",
       "      <td>39</td>\n",
       "      <td>\"Ж\"</td>\n",
       "    </tr>\n",
       "    <tr>\n",
       "      <th>1</th>\n",
       "      <td>4</td>\n",
       "      <td>54</td>\n",
       "      <td>\"М\"</td>\n",
       "    </tr>\n",
       "    <tr>\n",
       "      <th>2</th>\n",
       "      <td>4</td>\n",
       "      <td>26</td>\n",
       "      <td>\"М\"</td>\n",
       "    </tr>\n",
       "    <tr>\n",
       "      <th>3</th>\n",
       "      <td>5</td>\n",
       "      <td>42</td>\n",
       "      <td>\"М\"</td>\n",
       "    </tr>\n",
       "    <tr>\n",
       "      <th>4</th>\n",
       "      <td>4</td>\n",
       "      <td>29</td>\n",
       "      <td>\"М\"</td>\n",
       "    </tr>\n",
       "    <tr>\n",
       "      <th>...</th>\n",
       "      <td>...</td>\n",
       "      <td>...</td>\n",
       "      <td>...</td>\n",
       "    </tr>\n",
       "    <tr>\n",
       "      <th>232</th>\n",
       "      <td>5</td>\n",
       "      <td>30</td>\n",
       "      <td>\"М\"</td>\n",
       "    </tr>\n",
       "    <tr>\n",
       "      <th>233</th>\n",
       "      <td>4</td>\n",
       "      <td>36</td>\n",
       "      <td>\"Ж\"</td>\n",
       "    </tr>\n",
       "    <tr>\n",
       "      <th>234</th>\n",
       "      <td>2</td>\n",
       "      <td>60</td>\n",
       "      <td>\"Ж\"</td>\n",
       "    </tr>\n",
       "    <tr>\n",
       "      <th>235</th>\n",
       "      <td>2</td>\n",
       "      <td>44</td>\n",
       "      <td>\"Ж\"</td>\n",
       "    </tr>\n",
       "    <tr>\n",
       "      <th>236</th>\n",
       "      <td>3</td>\n",
       "      <td>37</td>\n",
       "      <td>\"М\"</td>\n",
       "    </tr>\n",
       "  </tbody>\n",
       "</table>\n",
       "<p>237 rows × 3 columns</p>\n",
       "</div>"
      ],
      "text/plain": [
       "     Количество больничных дней  Возраст  Пол\n",
       "0                             5       39  \"Ж\"\n",
       "1                             4       54  \"М\"\n",
       "2                             4       26  \"М\"\n",
       "3                             5       42  \"М\"\n",
       "4                             4       29  \"М\"\n",
       "..                          ...      ...  ...\n",
       "232                           5       30  \"М\"\n",
       "233                           4       36  \"Ж\"\n",
       "234                           2       60  \"Ж\"\n",
       "235                           2       44  \"Ж\"\n",
       "236                           3       37  \"М\"\n",
       "\n",
       "[237 rows x 3 columns]"
      ]
     },
     "execution_count": 19,
     "metadata": {},
     "output_type": "execute_result"
    }
   ],
   "source": [
    "data"
   ]
  },
  {
   "cell_type": "markdown",
   "id": "e2815a24",
   "metadata": {},
   "source": [
    "### Распределение количества больничных дней по полу"
   ]
  },
  {
   "cell_type": "code",
   "execution_count": 10,
   "id": "c538e3e3",
   "metadata": {},
   "outputs": [
    {
     "data": {
      "image/png": "[encoded data removed]",
      "text/plain": [
       "<Figure size 720x432 with 1 Axes>"
      ]
     },
     "metadata": {},
     "output_type": "display_data"
    }
   ],
   "source": [
    "# Настройки для графиков\n",
    "sns.set(style=\"whitegrid\")\n",
    "plt.rcParams[\"figure.figsize\"] = (12, 6)\n",
    "plt.figure(figsize=(10, 6))\n",
    "\n",
    "# Распределение количества больничных дней по полу\n",
    "plt.subplot(1, 2, 1)\n",
    "sns.histplot(data=data, x=\"Количество больничных дней\", hue=\"Пол\", multiple=\"stack\")\n",
    "plt.title(\"Распределение количества больничных дней по полу\")\n",
    "\n",
    "plt.tight_layout()\n",
    "plt.show()"
   ]
  },
  {
   "cell_type": "markdown",
   "id": "8ea1750c",
   "metadata": {},
   "source": [
    "### Распределение количества больничных дней по возрасту"
   ]
  },
  {
   "cell_type": "code",
   "execution_count": 22,
   "id": "964b91ce",
   "metadata": {},
   "outputs": [
    {
     "data": {
      "image/png": "[encoded data removed]",
      "text/plain": [
       "<Figure size 864x432 with 1 Axes>"
      ]
     },
     "metadata": {},
     "output_type": "display_data"
    }
   ],
   "source": [
    "plt.subplot(1, 2, 2)\n",
    "sns.histplot(data=data, x=\"Количество больничных дней\", hue=\"Возраст\")\n",
    "plt.title(\"Распределение количества больничных дней по возрасту\")\n",
    "\n",
    "plt.tight_layout()\n",
    "plt.show()"
   ]
  },
  {
   "cell_type": "code",
   "execution_count": 14,
   "id": "fb45ac30",
   "metadata": {},
   "outputs": [
    {
     "data": {
      "image/png": "[encoded data removed]",
      "text/plain": [
       "<Figure size 864x432 with 1 Axes>"
      ]
     },
     "metadata": {},
     "output_type": "display_data"
    }
   ],
   "source": [
    "plt.subplot(1, 2, 2)\n",
    "sns.histplot(data=data, x=\"Количество больничных дней\",y='Возраст')\n",
    "plt.title(\"Распределение количества больничных дней по возрасту\")\n",
    "\n",
    "plt.tight_layout()\n",
    "plt.show()"
   ]
  },
  {
   "cell_type": "markdown",
   "id": "71bbb3d0",
   "metadata": {},
   "source": [
    "### Гипотеза 1"
   ]
  },
  {
   "cell_type": "markdown",
   "id": "f0cb016c",
   "metadata": {},
   "source": [
    "Мужчины и женщины пропускают одинаковое количество рабочих дней по болезни"
   ]
  },
  {
   "cell_type": "code",
   "execution_count": 6,
   "id": "8c2c91e1",
   "metadata": {},
   "outputs": [
    {
     "name": "stdout",
     "output_type": "stream",
     "text": [
      "Результат: Гипотеза 1 не отвергается.\n",
      "Нет статистически значимой разницы в пропущенных рабочих днях по болезни между мужчинами и женщинами.\n"
     ]
    }
   ],
   "source": [
    "men = data[data['Пол'] == 'М']['Количество больничных дней']\n",
    "women = data[data['Пол'] == 'Ж']['Количество больничных дней']\n",
    "\n",
    "men_above_threshold = men[men > 2]\n",
    "women_above_threshold = women[women > 2]\n",
    "\n",
    "# Проверка гипотезы 1\n",
    "t_statistic, p_value = ttest_ind(men_above_threshold, women_above_threshold)\n",
    "\n",
    "if p_value < 0.05:\n",
    "    print(\"Результат: Гипотеза 1 отвергается.\")\n",
    "    print(f\"Мужчины пропускают в течение года более 2 рабочих дней по болезни значимо чаще женщин.\")\n",
    "else:\n",
    "    print(\"Результат: Гипотеза 1 не отвергается.\")\n",
    "    print(\"Нет статистически значимой разницы в пропущенных рабочих днях по болезни между мужчинами и женщинами.\")\n"
   ]
  },
  {
   "cell_type": "markdown",
   "id": "14e51454",
   "metadata": {},
   "source": [
    "### Гипотеза 2"
   ]
  },
  {
   "cell_type": "markdown",
   "id": "5bf0d547",
   "metadata": {},
   "source": [
    "Сотрудники старше 35 лет пропускают более 2 рабочих дней по болезни чаще, чем молодые сотрудники"
   ]
  },
  {
   "cell_type": "code",
   "execution_count": 7,
   "id": "e44d9ead",
   "metadata": {},
   "outputs": [
    {
     "name": "stdout",
     "output_type": "stream",
     "text": [
      "Результат: Гипотеза 2 не отвергается.\n",
      "Нет статистически значимой разницы в пропущенных рабочих днях по болезни между сотрудниками старше 35 лет и молодыми сотрудниками.\n"
     ]
    }
   ],
   "source": [
    "young_employees = data[data['Возраст'] <= 35]['Количество больничных дней']\n",
    "older_employees = data[data['Возраст'] > 35]['Количество больничных дней']\n",
    "\n",
    "young_employees = data[data['Возраст'] <= 35]['Количество больничных дней']\n",
    "older_employees = data[data['Возраст'] > 35]['Количество больничных дней']\n",
    "\n",
    "young_employees_above_threshold = young_employees[young_employees > 2]\n",
    "older_employees_above_threshold = older_employees[older_employees > 2]\n",
    "\n",
    "# Проверка гипотезы 2\n",
    "t_statistic_age, p_value_age = ttest_ind(older_employees_above_threshold, young_employees_above_threshold)\n",
    "\n",
    "if p_value_age < 0.05:\n",
    "    print(\"Результат: Гипотеза 2 отвергается.\")\n",
    "    print(f\"Сотрудники старше 35 лет пропускают в течение года более 2 рабочих дней по болезни значимо чаще, чем молодые сотрудники.\")\n",
    "else:\n",
    "    print(\"Результат: Гипотеза 2 не отвергается.\")\n",
    "    print(f\"Нет статистически значимой разницы в пропущенных рабочих днях по болезни между сотрудниками старше 35 лет и молодыми сотрудниками.\")"
   ]
  },
  {
   "cell_type": "code",
   "execution_count": null,
   "id": "f65bed45",
   "metadata": {},
   "outputs": [],
   "source": []
  }
 ],
 "metadata": {
  "kernelspec": {
   "display_name": "Python 3 (ipykernel)",
   "language": "python",
   "name": "python3"
  },
  "language_info": {
   "codemirror_mode": {
    "name": "ipython",
    "version": 3
   },
   "file_extension": ".py",
   "mimetype": "text/x-python",
   "name": "python",
   "nbconvert_exporter": "python",
   "pygments_lexer": "ipython3",
   "version": "3.9.12"
  }
 },
 "nbformat": 4,
 "nbformat_minor": 5
}
